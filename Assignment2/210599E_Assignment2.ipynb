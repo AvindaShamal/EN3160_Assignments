{
 "cells": [
  {
   "cell_type": "code",
   "execution_count": null,
   "metadata": {},
   "outputs": [],
   "source": [
    "#  using Laplacian of Gaussians and scale-space extrema detection, we will detect and draw circles in the sunflower field image\n",
    "\n",
    "import cv2 as cv\n",
    "import numpy as np\n",
    "import matplotlib.pyplot as plt\n",
    "\n",
    "im =cv.imread(\"images/the_berry_farms_sunflower_field.jpeg\", cv.IMREAD_REDUCED_COLOR_4)\n",
    "    "
   ]
  }
 ],
 "metadata": {
  "language_info": {
   "name": "python"
  }
 },
 "nbformat": 4,
 "nbformat_minor": 2
}
